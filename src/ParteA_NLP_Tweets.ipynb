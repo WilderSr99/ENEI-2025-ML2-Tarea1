{
 "cells": [
  {
   "cell_type": "code",
   "execution_count": null,
   "id": "0f27358a",
   "metadata": {},
   "outputs": [],
   "source": [
    "#Reinitialize the Python interpreter, clearing all variables and imports\n",
    "#%reset -f"
   ]
  },
  {
   "cell_type": "markdown",
   "id": "b83e8c82",
   "metadata": {},
   "source": [
    "*Configuración global de entorno*"
   ]
  },
  {
   "cell_type": "code",
   "execution_count": 2,
   "id": "e6cc6f02",
   "metadata": {},
   "outputs": [],
   "source": [
    "from utils.preprocessing import preprocess_text\n",
    "from utils.metrics import report_classification, plot_confusion\n",
    "from utils.model_utils import tune_logistic_C\n",
    "from utils.visualization import plot_decision_boundary\n"
   ]
  },
  {
   "cell_type": "code",
   "execution_count": 3,
   "id": "6182376b",
   "metadata": {},
   "outputs": [
    {
     "name": "stdout",
     "output_type": "stream",
     "text": [
      "Entorno listo.\n"
     ]
    }
   ],
   "source": [
    "# Núcleo científico\n",
    "import numpy as np\n",
    "import pandas as pd\n",
    "\n",
    "# Visualización\n",
    "import matplotlib.pyplot as plt\n",
    "import seaborn as sns\n",
    "sns.set(style=\"whitegrid\")\n",
    "plt.rcParams[\"figure.figsize\"] = (7,4)\n",
    "\n",
    "# Reproducibilidad\n",
    "RANDOM_STATE = 42\n",
    "np.random.seed(RANDOM_STATE)\n",
    "\n",
    "# Sklearn\n",
    "from sklearn.model_selection import train_test_split, GridSearchCV, StratifiedKFold\n",
    "from sklearn.feature_extraction.text import CountVectorizer\n",
    "from sklearn.linear_model import LogisticRegression\n",
    "from sklearn.metrics import f1_score, classification_report, confusion_matrix\n",
    "\n",
    "# Rutas para importar utils/\n",
    "import sys, os\n",
    "sys.path.append(os.path.abspath(\"..\"))\n",
    "\n",
    "# Utils del proyecto\n",
    "from utils.preprocessing import preprocess_text\n",
    "from utils.metrics import report_classification, plot_confusion\n",
    "from utils.model_utils import tune_logistic_C\n",
    "\n",
    "# NLTK (ya gestionado en utils, pero por si acaso…)\n",
    "import nltk\n",
    "nltk.download('punkt', quiet=True)\n",
    "nltk.download('stopwords', quiet=True)\n",
    "nltk.download('wordnet', quiet=True)\n",
    "nltk.download('omw-1.4', quiet=True)\n",
    "\n",
    "print(\"Entorno listo.\")\n"
   ]
  },
  {
   "cell_type": "markdown",
   "id": "9da16ab6",
   "metadata": {},
   "source": [
    "# Parte A — Binary Classification on Text Data (Disaster Tweets)\n",
    "\n",
    "**Objetivo:** Predecir si un tweet trata sobre un desastre real (`target=1`) o no (`target=0`) usando:\n",
    "1) Carga y split (70/30 estratificado) y porcentajes de clases.  \n",
    "2) Preprocesamiento de texto (lowercase, lemmatize/stem, quitar puntuación, stopwords, `@` y URLs).  \n",
    "3) **Bag of Words binario** con `CountVectorizer(binary=True, min_df=M)` (ajuste **solo** en train).  \n",
    "4) **Logistic Regression**: sin regularización, con L1 (selección de C), con L2 (selección de C).  \n",
    "   - Reportar F1 en train/test, discutir over/underfitting, y **palabras más importantes (L1)**.  \n",
    "5) **Bernoulli Naive Bayes** (implementación propia) con **Laplace α=1**; F1 train/test.  \n",
    "6) **N-grams (2-gramas)**: vocabulario con `min_df=M2`, 10 ejemplos, LR+NB y comparación con BoW.\n"
   ]
  },
  {
   "cell_type": "markdown",
   "id": "330ee797",
   "metadata": {},
   "source": [
    "## PASO 1-Carga del dataset y split 70/30 estratificado"
   ]
  },
  {
   "cell_type": "markdown",
   "id": "48e72218",
   "metadata": {},
   "source": [
    "### 1) Data Loading and Splitting\n",
    "\n",
    "- **Dataset:** `data/disaster_tweets.csv`.  \n",
    "- **Variables relevantes:** `text` (X) y `target` (y).  \n",
    "- **Validaciones aplicadas:**  \n",
    "  - Columnas esperadas presentes (`id`, `text`, `location`, `keyword`, `target`).  \n",
    "  - `target` coaccionado a entero y validado en {0,1}.  \n",
    "  - Se filtran filas con `text` vacío o solo espacios (además de `NaN`).  \n",
    "- **Reporte solicitado:** % de `target=1` (desastre real) y `target=0` (no).  \n",
    "- **Split:** 70/30 **estratificado** para preservar proporción de clases."
   ]
  },
  {
   "cell_type": "code",
   "execution_count": 4,
   "id": "dd03c683",
   "metadata": {},
   "outputs": [],
   "source": [
    "from pathlib import Path\n",
    "\n",
    "DATA_PATH = Path(\"..\") / \"data\" / \"disaster_tweets.csv\"\n",
    "\n",
    "# 1) Cargar\n",
    "df = pd.read_csv(DATA_PATH)\n",
    "\n"
   ]
  },
  {
   "cell_type": "code",
   "execution_count": 5,
   "id": "9a9fdd30",
   "metadata": {},
   "outputs": [],
   "source": [
    "# 2) Validar columnas\n",
    "expected_cols = {\"id\", \"text\", \"location\", \"keyword\", \"target\"}\n",
    "missing = expected_cols - set(df.columns)\n",
    "if missing:\n",
    "    raise ValueError(f\"Faltan columnas en el CSV: {missing}\")"
   ]
  },
  {
   "cell_type": "code",
   "execution_count": 6,
   "id": "69f6088e",
   "metadata": {},
   "outputs": [],
   "source": [
    "# 3) Coerción y validación de target\n",
    "df = df.copy()\n",
    "df[\"target\"] = pd.to_numeric(df[\"target\"], errors=\"coerce\")\n",
    "if df[\"target\"].isna().any():\n",
    "    raise ValueError(\"Se encontraron valores no numéricos en 'target'.\")\n",
    "vals = set(df[\"target\"].unique())\n",
    "if not vals.issubset({0,1}):\n",
    "    raise ValueError(f\"'target' contiene valores fuera de {{0,1}}: {vals}\")\n",
    "df[\"target\"] = df[\"target\"].astype(int)\n",
    "\n"
   ]
  },
  {
   "cell_type": "code",
   "execution_count": 7,
   "id": "e097326c",
   "metadata": {},
   "outputs": [
    {
     "name": "stdout",
     "output_type": "stream",
     "text": [
      "Shape final tras limpieza mínima: (7613, 5)\n"
     ]
    }
   ],
   "source": [
    "# 4) Limpiar text vacío/whitespace\n",
    "df[\"text\"] = df[\"text\"].astype(str)\n",
    "mask_nonempty = df[\"text\"].str.strip().astype(bool)\n",
    "empty_count = (~mask_nonempty).sum()\n",
    "if empty_count > 0:\n",
    "    print(f\"Filtrando {empty_count} filas con 'text' vacío o solo espacios.\")\n",
    "df = df[mask_nonempty].reset_index(drop=True)\n",
    "\n",
    "print(\"Shape final tras limpieza mínima:\", df.shape)\n"
   ]
  },
  {
   "cell_type": "code",
   "execution_count": 8,
   "id": "28d863cf",
   "metadata": {},
   "outputs": [
    {
     "data": {
      "application/vnd.microsoft.datawrangler.viewer.v0+json": {
       "columns": [
        {
         "name": "target",
         "rawType": "int64",
         "type": "integer"
        },
        {
         "name": "count",
         "rawType": "int64",
         "type": "integer"
        },
        {
         "name": "pct_%",
         "rawType": "float64",
         "type": "float"
        }
       ],
       "ref": "b8d332cb-bb9e-4acc-a788-1cff7c1aab17",
       "rows": [
        [
         "0",
         "4342",
         "57.03"
        ],
        [
         "1",
         "3271",
         "42.97"
        ]
       ],
       "shape": {
        "columns": 2,
        "rows": 2
       }
      },
      "text/html": [
       "<div>\n",
       "<style scoped>\n",
       "    .dataframe tbody tr th:only-of-type {\n",
       "        vertical-align: middle;\n",
       "    }\n",
       "\n",
       "    .dataframe tbody tr th {\n",
       "        vertical-align: top;\n",
       "    }\n",
       "\n",
       "    .dataframe thead th {\n",
       "        text-align: right;\n",
       "    }\n",
       "</style>\n",
       "<table border=\"1\" class=\"dataframe\">\n",
       "  <thead>\n",
       "    <tr style=\"text-align: right;\">\n",
       "      <th></th>\n",
       "      <th>count</th>\n",
       "      <th>pct_%</th>\n",
       "    </tr>\n",
       "    <tr>\n",
       "      <th>target</th>\n",
       "      <th></th>\n",
       "      <th></th>\n",
       "    </tr>\n",
       "  </thead>\n",
       "  <tbody>\n",
       "    <tr>\n",
       "      <th>0</th>\n",
       "      <td>4342</td>\n",
       "      <td>57.03</td>\n",
       "    </tr>\n",
       "    <tr>\n",
       "      <th>1</th>\n",
       "      <td>3271</td>\n",
       "      <td>42.97</td>\n",
       "    </tr>\n",
       "  </tbody>\n",
       "</table>\n",
       "</div>"
      ],
      "text/plain": [
       "        count  pct_%\n",
       "target              \n",
       "0        4342  57.03\n",
       "1        3271  42.97"
      ]
     },
     "metadata": {},
     "output_type": "display_data"
    },
    {
     "name": "stdout",
     "output_type": "stream",
     "text": [
      "\n",
      "% Real disaster (1): 42.97%\n",
      "% No disaster (0):  57.03%\n"
     ]
    }
   ],
   "source": [
    "# 5) % de clases\n",
    "class_counts = df[\"target\"].value_counts().sort_index()\n",
    "class_pct = (class_counts / len(df) * 100).round(2)\n",
    "display(pd.DataFrame({\"count\": class_counts, \"pct_%\": class_pct}))\n",
    "print(f\"\\n% Real disaster (1): {class_pct.get(1,0.0)}%\")\n",
    "print(f\"% No disaster (0):  {class_pct.get(0,0.0)}%\")\n"
   ]
  },
  {
   "cell_type": "code",
   "execution_count": 9,
   "id": "f6cf27e1",
   "metadata": {},
   "outputs": [
    {
     "name": "stdout",
     "output_type": "stream",
     "text": [
      "\n",
      "Tamaños — Train: 5329 Test: 2284\n",
      "\n",
      "% Clases total:\n",
      " 0    57.03\n",
      "1    42.97\n",
      "Name: proportion, dtype: float64\n",
      "\n",
      "% Clases train:\n",
      " 0    57.03\n",
      "1    42.97\n",
      "Name: proportion, dtype: float64\n",
      "\n",
      "% Clases test:\n",
      " 0    57.05\n",
      "1    42.95\n",
      "Name: proportion, dtype: float64\n"
     ]
    }
   ],
   "source": [
    "# 6) Split estratificado 70/30\n",
    "X_raw = df[\"text\"].values\n",
    "y = df[\"target\"].values\n",
    "\n",
    "if np.min(np.bincount(y)) < 2:\n",
    "    raise ValueError(\"Muy pocos ejemplos en la clase minoritaria — no se puede estratificar 70/30.\")\n",
    "\n",
    "X_train_raw, X_test_raw, y_train, y_test = train_test_split(\n",
    "    X_raw, y, test_size=0.30, random_state=RANDOM_STATE, stratify=y\n",
    ")\n",
    "\n",
    "def pct(yv):\n",
    "    return (pd.Series(yv).value_counts(normalize=True).sort_index() * 100).round(2)\n",
    "\n",
    "print(\"\\nTamaños — Train:\", len(X_train_raw), \"Test:\", len(X_test_raw))\n",
    "print(\"\\n% Clases total:\\n\", pct(y))\n",
    "print(\"\\n% Clases train:\\n\", pct(y_train))\n",
    "print(\"\\n% Clases test:\\n\", pct(y_test))"
   ]
  },
  {
   "cell_type": "markdown",
   "id": "82426620",
   "metadata": {},
   "source": [
    "## 2) Preprocesamiento y Bag of Words (binary)"
   ]
  },
  {
   "cell_type": "markdown",
   "id": "f3167e18",
   "metadata": {},
   "source": [
    "### 2) Preprocesamiento y Bag of Words (binary)\n",
    "\n",
    "**Decisiones y razones:**\n",
    "- *lowercase* → homogeneiza tokens.  \n",
    "- *lemmatize* → reduce variación morfológica (e.g., *floods*→*flood*).  \n",
    "- quitar **puntuación/stopwords/URLs/@** → remueve ruido no informativo.  \n",
    "- conservar palabras de hashtags (quitando `#`) → `#earthquake` → `earthquake`.  \n",
    "\n",
    "**Vectorización:**\n",
    "- `CountVectorizer(binary=True)` → presencia/ausencia (coherente con BoW binario).  \n",
    "- `min_df = M` (filtra términos raros). Criterio robusto: `M = max(2, ceil(0.005 * n_docs_train))` (~0.5% del train).  \n",
    "- **Ajuste solo con train** y reutilización para test (requisito del enunciado).\n"
   ]
  },
  {
   "cell_type": "code",
   "execution_count": 10,
   "id": "525c2d36",
   "metadata": {},
   "outputs": [
    {
     "name": "stderr",
     "output_type": "stream",
     "text": [
      "[nltk_data] Downloading package wordnet to\n",
      "[nltk_data]     C:\\Users\\pc\\AppData\\Roaming\\nltk_data...\n",
      "[nltk_data]   Package wordnet is already up-to-date!\n"
     ]
    }
   ],
   "source": [
    "import nltk\n",
    "\n",
    "# Verifica y descarga solo si faltan los recursos\n",
    "for resource in ['punkt', 'punkt_tab', 'stopwords', 'wordnet']:\n",
    "    try:\n",
    "        nltk.data.find(f'tokenizers/{resource}') if 'punkt' in resource else nltk.data.find(f'corpora/{resource}')\n",
    "    except LookupError:\n",
    "        nltk.download(resource)"
   ]
  },
  {
   "cell_type": "code",
   "execution_count": 11,
   "id": "7ac30358",
   "metadata": {},
   "outputs": [
    {
     "name": "stdout",
     "output_type": "stream",
     "text": [
      "Ejemplo preprocesado:\n",
      "RAW: Las Vegas in top 5 cities for red-light running fatalities http://t.co/kC8O81BcHG\n",
      "CLEAN: la vega top 5 city redlight running fatality\n",
      "---\n",
      "RAW: Do you feel like you are sinking in unhappiness? Take the quiz: http://t.co/BTjPEO0Bto http://t.co/ClyJ32L333\n",
      "CLEAN: feel like sinking unhappiness take quiz\n",
      "---\n",
      "Tamaño del vocabulario (BoW): 292\n"
     ]
    }
   ],
   "source": [
    "from math import ceil\n",
    "\n",
    "# Preprocesamiento\n",
    "X_train_clean = [preprocess_text(t) for t in X_train_raw]\n",
    "X_test_clean  = [preprocess_text(t) for t in X_test_raw]\n",
    "\n",
    "print(\"Ejemplo preprocesado:\")\n",
    "for i in range(2):\n",
    "    print(\"RAW:\", X_train_raw[i])\n",
    "    print(\"CLEAN:\", X_train_clean[i])\n",
    "    print(\"---\")\n",
    "\n",
    "# Vectorización BoW (binaria)\n",
    "n_train_docs = len(X_train_clean)\n",
    "M = max(2, ceil(0.005 * n_train_docs))  # ~0.5% del train\n",
    "\n",
    "vectorizer = CountVectorizer(binary=True, min_df=M)\n",
    "X_train_bow = vectorizer.fit_transform(X_train_clean)   # fit SOLO en train\n",
    "X_test_bow  = vectorizer.transform(X_test_clean)        # transform en test\n",
    "\n",
    "vocab = vectorizer.get_feature_names_out()\n",
    "print(\"Tamaño del vocabulario (BoW):\", len(vocab))\n"
   ]
  },
  {
   "cell_type": "markdown",
   "id": "1256d2c5",
   "metadata": {},
   "source": [
    "## 3) Logistic Regression (None, L1, L2) — F1 train/test (Markdown)"
   ]
  },
  {
   "cell_type": "markdown",
   "id": "b65f0572",
   "metadata": {},
   "source": [
    "### 3) Logistic Regression — evaluación con F1\n",
    "\n",
    "Entrenamos:\n",
    "1) **Sin regularización** (`penalty=None`).  \n",
    "2) **L1** con selección de `C` por CV (5-fold).  \n",
    "3) **L2** con selección de `C` por CV (5-fold).  \n",
    "\n",
    "**Se reporta** F1 en *train/test*, se discute **over/underfitting** y se inspeccionan **palabras más importantes** del modelo L1.\n"
   ]
  },
  {
   "cell_type": "markdown",
   "id": "b5e58fe2",
   "metadata": {},
   "source": [
    "3.1) Sin regularización (Código)"
   ]
  },
  {
   "cell_type": "code",
   "execution_count": 13,
   "id": "631c2622",
   "metadata": {},
   "outputs": [
    {
     "name": "stdout",
     "output_type": "stream",
     "text": [
      "\n",
      "--- LR sin regularización — Train ---\n",
      "Accuracy: 0.782\n",
      "F1-score: 0.726\n",
      "              precision    recall  f1-score   support\n",
      "\n",
      "           0      0.778     0.865     0.819      3039\n",
      "           1      0.790     0.672     0.726      2290\n",
      "\n",
      "    accuracy                          0.782      5329\n",
      "   macro avg      0.784     0.769     0.773      5329\n",
      "weighted avg      0.783     0.782     0.779      5329\n",
      "\n"
     ]
    },
    {
     "data": {
      "image/png": "[encoded data removed]",
      "text/plain": [
       "<Figure size 700x400 with 1 Axes>"
      ]
     },
     "metadata": {},
     "output_type": "display_data"
    },
    {
     "name": "stdout",
     "output_type": "stream",
     "text": [
      "\n",
      "--- LR sin regularización — Test ---\n",
      "Accuracy: 0.761\n",
      "F1-score: 0.698\n",
      "              precision    recall  f1-score   support\n",
      "\n",
      "           0      0.760     0.849     0.802      1303\n",
      "           1      0.762     0.643     0.698       981\n",
      "\n",
      "    accuracy                          0.761      2284\n",
      "   macro avg      0.761     0.746     0.750      2284\n",
      "weighted avg      0.761     0.761     0.757      2284\n",
      "\n"
     ]
    },
    {
     "data": {
      "image/png": "[encoded data removed]",
      "text/plain": [
       "<Figure size 700x400 with 1 Axes>"
      ]
     },
     "metadata": {},
     "output_type": "display_data"
    },
    {
     "name": "stdout",
     "output_type": "stream",
     "text": [
      "\n",
      "Resumen F1 — sin reg: train=0.7260  test=0.6976\n"
     ]
    }
   ],
   "source": [
    "lr_none = LogisticRegression(penalty=None, max_iter=400, random_state=RANDOM_STATE)\n",
    "lr_none.fit(X_train_bow, y_train)\n",
    "\n",
    "yhat_tr_none = lr_none.predict(X_train_bow)\n",
    "yhat_te_none = lr_none.predict(X_test_bow)\n",
    "\n",
    "f1_tr_none = f1_score(y_train, yhat_tr_none)\n",
    "f1_te_none = f1_score(y_test,  yhat_te_none)\n",
    "\n",
    "report_classification(y_train, yhat_tr_none, title=\"LR sin regularización — Train\")\n",
    "plot_confusion(y_train, yhat_tr_none, title=\"CM — LR sin regularización (Train)\")\n",
    "\n",
    "report_classification(y_test,  yhat_te_none, title=\"LR sin regularización — Test\")\n",
    "plot_confusion(y_test,  yhat_te_none, title=\"CM — LR sin regularización (Test)\")\n",
    "\n",
    "print(f\"\\nResumen F1 — sin reg: train={f1_tr_none:.4f}  test={f1_te_none:.4f}\")\n"
   ]
  },
  {
   "cell_type": "markdown",
   "id": "b815b716",
   "metadata": {},
   "source": [
    "3.2) L1 con selección de C (usa tune_logistic_C de utils) (Código)"
   ]
  },
  {
   "cell_type": "code",
   "execution_count": 14,
   "id": "ff379105",
   "metadata": {},
   "outputs": [
    {
     "name": "stdout",
     "output_type": "stream",
     "text": [
      "Mejor L1 params: {'C': 3}  — F1 CV: 0.6864\n",
      "\n",
      "--- LR L1 — Train ---\n",
      "Accuracy: 0.785\n",
      "F1-score: 0.727\n",
      "              precision    recall  f1-score   support\n",
      "\n",
      "           0      0.777     0.874     0.822      3039\n",
      "           1      0.799     0.666     0.727      2290\n",
      "\n",
      "    accuracy                          0.785      5329\n",
      "   macro avg      0.788     0.770     0.774      5329\n",
      "weighted avg      0.786     0.785     0.781      5329\n",
      "\n"
     ]
    },
    {
     "data": {
      "image/png": "[encoded data removed]",
      "text/plain": [
       "<Figure size 700x400 with 1 Axes>"
      ]
     },
     "metadata": {},
     "output_type": "display_data"
    },
    {
     "name": "stdout",
     "output_type": "stream",
     "text": [
      "\n",
      "--- LR L1 — Test ---\n",
      "Accuracy: 0.763\n",
      "F1-score: 0.698\n",
      "              precision    recall  f1-score   support\n",
      "\n",
      "           0      0.758     0.857     0.805      1303\n",
      "           1      0.771     0.637     0.698       981\n",
      "\n",
      "    accuracy                          0.763      2284\n",
      "   macro avg      0.764     0.747     0.751      2284\n",
      "weighted avg      0.764     0.763     0.759      2284\n",
      "\n"
     ]
    },
    {
     "data": {
      "image/png": "[encoded data removed]",
      "text/plain": [
       "<Figure size 700x400 with 1 Axes>"
      ]
     },
     "metadata": {},
     "output_type": "display_data"
    },
    {
     "name": "stdout",
     "output_type": "stream",
     "text": [
      "\n",
      "Resumen F1 — L1: train=0.7267  test=0.6975\n"
     ]
    }
   ],
   "source": [
    "Cs = [0.001, 0.01, 0.1, 1, 3, 10, 30, 100]\n",
    "best_l1, best_params_l1, best_cv_l1 = tune_logistic_C(\n",
    "    X_train_bow, y_train,\n",
    "    penalty='l1', solver='liblinear',\n",
    "    Cs=Cs, cv=5, random_state=RANDOM_STATE, n_jobs=-1, return_df=False\n",
    ")\n",
    "\n",
    "print(\"Mejor L1 params:\", best_params_l1, \" — F1 CV:\", round(best_cv_l1, 4))\n",
    "\n",
    "yhat_tr_l1 = best_l1.predict(X_train_bow)\n",
    "yhat_te_l1 = best_l1.predict(X_test_bow)\n",
    "\n",
    "f1_tr_l1 = f1_score(y_train, yhat_tr_l1)\n",
    "f1_te_l1 = f1_score(y_test,  yhat_te_l1)\n",
    "\n",
    "report_classification(y_train, yhat_tr_l1, title=\"LR L1 — Train\")\n",
    "plot_confusion(y_train, yhat_tr_l1, title=\"CM — LR L1 (Train)\")\n",
    "\n",
    "report_classification(y_test,  yhat_te_l1, title=\"LR L1 — Test\")\n",
    "plot_confusion(y_test,  yhat_te_l1, title=\"CM — LR L1 (Test)\")\n",
    "\n",
    "print(f\"\\nResumen F1 — L1: train={f1_tr_l1:.4f}  test={f1_te_l1:.4f}\")\n"
   ]
  },
  {
   "cell_type": "markdown",
   "id": "31fc874b",
   "metadata": {},
   "source": [
    "3.3) L2 con selección de C (Código)"
   ]
  },
  {
   "cell_type": "code",
   "execution_count": 15,
   "id": "3c8f5e07",
   "metadata": {},
   "outputs": [
    {
     "name": "stdout",
     "output_type": "stream",
     "text": [
      "Mejor L2 params: {'C': 3}  — F1 CV: 0.6828\n",
      "\n",
      "--- LR L2 — Train ---\n",
      "Accuracy: 0.784\n",
      "F1-score: 0.726\n",
      "              precision    recall  f1-score   support\n",
      "\n",
      "           0      0.776     0.873     0.821      3039\n",
      "           1      0.797     0.666     0.726      2290\n",
      "\n",
      "    accuracy                          0.784      5329\n",
      "   macro avg      0.787     0.769     0.773      5329\n",
      "weighted avg      0.785     0.784     0.780      5329\n",
      "\n"
     ]
    },
    {
     "data": {
      "image/png": "[encoded data removed]",
      "text/plain": [
       "<Figure size 700x400 with 1 Axes>"
      ]
     },
     "metadata": {},
     "output_type": "display_data"
    },
    {
     "name": "stdout",
     "output_type": "stream",
     "text": [
      "\n",
      "--- LR L2 — Test ---\n",
      "Accuracy: 0.761\n",
      "F1-score: 0.697\n",
      "              precision    recall  f1-score   support\n",
      "\n",
      "           0      0.758     0.854     0.803      1303\n",
      "           1      0.767     0.638     0.697       981\n",
      "\n",
      "    accuracy                          0.761      2284\n",
      "   macro avg      0.763     0.746     0.750      2284\n",
      "weighted avg      0.762     0.761     0.758      2284\n",
      "\n"
     ]
    },
    {
     "data": {
      "image/png": "[encoded data removed]",
      "text/plain": [
       "<Figure size 700x400 with 1 Axes>"
      ]
     },
     "metadata": {},
     "output_type": "display_data"
    },
    {
     "name": "stdout",
     "output_type": "stream",
     "text": [
      "\n",
      "Resumen F1 — L2: train=0.7255  test=0.6967\n"
     ]
    }
   ],
   "source": [
    "best_l2, best_params_l2, best_cv_l2 = tune_logistic_C(\n",
    "    X_train_bow, y_train,\n",
    "    penalty='l2', solver='liblinear',\n",
    "    Cs=Cs, cv=5, random_state=RANDOM_STATE, n_jobs=-1, return_df=False\n",
    ")\n",
    "\n",
    "print(\"Mejor L2 params:\", best_params_l2, \" — F1 CV:\", round(best_cv_l2, 4))\n",
    "\n",
    "yhat_tr_l2 = best_l2.predict(X_train_bow)\n",
    "yhat_te_l2 = best_l2.predict(X_test_bow)\n",
    "\n",
    "f1_tr_l2 = f1_score(y_train, yhat_tr_l2)\n",
    "f1_te_l2 = f1_score(y_test,  yhat_te_l2)\n",
    "\n",
    "report_classification(y_train, yhat_tr_l2, title=\"LR L2 — Train\")\n",
    "plot_confusion(y_train, yhat_tr_l2, title=\"CM — LR L2 (Train)\")\n",
    "\n",
    "report_classification(y_test,  yhat_te_l2, title=\"LR L2 — Test\")\n",
    "plot_confusion(y_test,  yhat_te_l2, title=\"CM — LR L2 (Test)\")\n",
    "\n",
    "print(f\"\\nResumen F1 — L2: train={f1_tr_l2:.4f}  test={f1_te_l2:.4f}\")\n"
   ]
  },
  {
   "cell_type": "markdown",
   "id": "3a54ea32",
   "metadata": {},
   "source": [
    "3.4) Comparación y diagnóstico (Markdown + Código)"
   ]
  },
  {
   "cell_type": "markdown",
   "id": "7aa09861",
   "metadata": {},
   "source": [
    "**Diagnóstico:**  \n",
    "- Si `F1_train >> F1_test` en LR sin reg → **overfitting**. Regularización (L1/L2) debe reducir la brecha.  \n",
    "- Si ambos F1 son bajos → **underfitting** (features o modelo insuficiente).  \n",
    "- Escogemos el **mejor por F1 en test**.\n"
   ]
  },
  {
   "cell_type": "code",
   "execution_count": 16,
   "id": "cf540662",
   "metadata": {},
   "outputs": [
    {
     "data": {
      "application/vnd.microsoft.datawrangler.viewer.v0+json": {
       "columns": [
        {
         "name": "index",
         "rawType": "int64",
         "type": "integer"
        },
        {
         "name": "modelo",
         "rawType": "object",
         "type": "string"
        },
        {
         "name": "F1_train",
         "rawType": "float64",
         "type": "float"
        },
        {
         "name": "F1_test",
         "rawType": "float64",
         "type": "float"
        }
       ],
       "ref": "c997d869-bc49-40df-8532-61b3cf3b5d25",
       "rows": [
        [
         "0",
         "LR sin reg",
         "0.7259853670049563",
         "0.6976229961304589"
        ],
        [
         "1",
         "LR L1 (best C)",
         "0.7266666666666667",
         "0.6975446428571429"
        ],
        [
         "2",
         "LR L2 (best C)",
         "0.7255415377291121",
         "0.6967167501391207"
        ]
       ],
       "shape": {
        "columns": 3,
        "rows": 3
       }
      },
      "text/html": [
       "<div>\n",
       "<style scoped>\n",
       "    .dataframe tbody tr th:only-of-type {\n",
       "        vertical-align: middle;\n",
       "    }\n",
       "\n",
       "    .dataframe tbody tr th {\n",
       "        vertical-align: top;\n",
       "    }\n",
       "\n",
       "    .dataframe thead th {\n",
       "        text-align: right;\n",
       "    }\n",
       "</style>\n",
       "<table border=\"1\" class=\"dataframe\">\n",
       "  <thead>\n",
       "    <tr style=\"text-align: right;\">\n",
       "      <th></th>\n",
       "      <th>modelo</th>\n",
       "      <th>F1_train</th>\n",
       "      <th>F1_test</th>\n",
       "    </tr>\n",
       "  </thead>\n",
       "  <tbody>\n",
       "    <tr>\n",
       "      <th>0</th>\n",
       "      <td>LR sin reg</td>\n",
       "      <td>0.725985</td>\n",
       "      <td>0.697623</td>\n",
       "    </tr>\n",
       "    <tr>\n",
       "      <th>1</th>\n",
       "      <td>LR L1 (best C)</td>\n",
       "      <td>0.726667</td>\n",
       "      <td>0.697545</td>\n",
       "    </tr>\n",
       "    <tr>\n",
       "      <th>2</th>\n",
       "      <td>LR L2 (best C)</td>\n",
       "      <td>0.725542</td>\n",
       "      <td>0.696717</td>\n",
       "    </tr>\n",
       "  </tbody>\n",
       "</table>\n",
       "</div>"
      ],
      "text/plain": [
       "           modelo  F1_train   F1_test\n",
       "0      LR sin reg  0.725985  0.697623\n",
       "1  LR L1 (best C)  0.726667  0.697545\n",
       "2  LR L2 (best C)  0.725542  0.696717"
      ]
     },
     "execution_count": 16,
     "metadata": {},
     "output_type": "execute_result"
    }
   ],
   "source": [
    "cmp_lr = pd.DataFrame({\n",
    "    'modelo': ['LR sin reg', 'LR L1 (best C)', 'LR L2 (best C)'],\n",
    "    'F1_train': [f1_tr_none, f1_tr_l1, f1_tr_l2],\n",
    "    'F1_test':  [f1_te_none, f1_te_l1, f1_te_l2]\n",
    "}).sort_values('F1_test', ascending=False).reset_index(drop=True)\n",
    "\n",
    "cmp_lr\n"
   ]
  },
  {
   "cell_type": "markdown",
   "id": "81fb77b9",
   "metadata": {},
   "source": [
    "3.5) Palabras más importantes (L1) (Código)"
   ]
  },
  {
   "cell_type": "code",
   "execution_count": 17,
   "id": "d1ef6273",
   "metadata": {},
   "outputs": [
    {
     "data": {
      "text/html": [
       "<style type=\"text/css\">\n",
       "</style>\n",
       "<table id=\"T_6b214\">\n",
       "  <caption>Top 20 palabras (+) → asoc. a desastre</caption>\n",
       "  <thead>\n",
       "    <tr>\n",
       "      <th class=\"blank level0\" >&nbsp;</th>\n",
       "      <th id=\"T_6b214_level0_col0\" class=\"col_heading level0 col0\" >word</th>\n",
       "      <th id=\"T_6b214_level0_col1\" class=\"col_heading level0 col1\" >coef</th>\n",
       "    </tr>\n",
       "  </thead>\n",
       "  <tbody>\n",
       "    <tr>\n",
       "      <th id=\"T_6b214_level0_row0\" class=\"row_heading level0 row0\" >0</th>\n",
       "      <td id=\"T_6b214_row0_col0\" class=\"data row0 col0\" >spill</td>\n",
       "      <td id=\"T_6b214_row0_col1\" class=\"data row0 col1\" >4.855387</td>\n",
       "    </tr>\n",
       "    <tr>\n",
       "      <th id=\"T_6b214_level0_row1\" class=\"row_heading level0 row1\" >1</th>\n",
       "      <td id=\"T_6b214_row1_col0\" class=\"data row1 col0\" >debris</td>\n",
       "      <td id=\"T_6b214_row1_col1\" class=\"data row1 col1\" >3.991775</td>\n",
       "    </tr>\n",
       "    <tr>\n",
       "      <th id=\"T_6b214_level0_row2\" class=\"row_heading level0 row2\" >2</th>\n",
       "      <td id=\"T_6b214_row2_col0\" class=\"data row2 col0\" >bomber</td>\n",
       "      <td id=\"T_6b214_row2_col1\" class=\"data row2 col1\" >3.885009</td>\n",
       "    </tr>\n",
       "    <tr>\n",
       "      <th id=\"T_6b214_level0_row3\" class=\"row_heading level0 row3\" >3</th>\n",
       "      <td id=\"T_6b214_row3_col0\" class=\"data row3 col0\" >hiroshima</td>\n",
       "      <td id=\"T_6b214_row3_col1\" class=\"data row3 col1\" >3.747060</td>\n",
       "    </tr>\n",
       "    <tr>\n",
       "      <th id=\"T_6b214_level0_row4\" class=\"row_heading level0 row4\" >4</th>\n",
       "      <td id=\"T_6b214_row4_col0\" class=\"data row4 col0\" >wildfire</td>\n",
       "      <td id=\"T_6b214_row4_col1\" class=\"data row4 col1\" >3.478275</td>\n",
       "    </tr>\n",
       "    <tr>\n",
       "      <th id=\"T_6b214_level0_row5\" class=\"row_heading level0 row5\" >5</th>\n",
       "      <td id=\"T_6b214_row5_col0\" class=\"data row5 col0\" >northern</td>\n",
       "      <td id=\"T_6b214_row5_col1\" class=\"data row5 col1\" >2.954906</td>\n",
       "    </tr>\n",
       "    <tr>\n",
       "      <th id=\"T_6b214_level0_row6\" class=\"row_heading level0 row6\" >6</th>\n",
       "      <td id=\"T_6b214_row6_col0\" class=\"data row6 col0\" >earthquake</td>\n",
       "      <td id=\"T_6b214_row6_col1\" class=\"data row6 col1\" >2.847963</td>\n",
       "    </tr>\n",
       "    <tr>\n",
       "      <th id=\"T_6b214_level0_row7\" class=\"row_heading level0 row7\" >7</th>\n",
       "      <td id=\"T_6b214_row7_col0\" class=\"data row7 col0\" >mh370</td>\n",
       "      <td id=\"T_6b214_row7_col1\" class=\"data row7 col1\" >2.845381</td>\n",
       "    </tr>\n",
       "    <tr>\n",
       "      <th id=\"T_6b214_level0_row8\" class=\"row_heading level0 row8\" >8</th>\n",
       "      <td id=\"T_6b214_row8_col0\" class=\"data row8 col0\" >severe</td>\n",
       "      <td id=\"T_6b214_row8_col1\" class=\"data row8 col1\" >2.789290</td>\n",
       "    </tr>\n",
       "    <tr>\n",
       "      <th id=\"T_6b214_level0_row9\" class=\"row_heading level0 row9\" >9</th>\n",
       "      <td id=\"T_6b214_row9_col0\" class=\"data row9 col0\" >bombing</td>\n",
       "      <td id=\"T_6b214_row9_col1\" class=\"data row9 col1\" >2.666484</td>\n",
       "    </tr>\n",
       "    <tr>\n",
       "      <th id=\"T_6b214_level0_row10\" class=\"row_heading level0 row10\" >10</th>\n",
       "      <td id=\"T_6b214_row10_col0\" class=\"data row10 col0\" >japan</td>\n",
       "      <td id=\"T_6b214_row10_col1\" class=\"data row10 col1\" >2.657707</td>\n",
       "    </tr>\n",
       "    <tr>\n",
       "      <th id=\"T_6b214_level0_row11\" class=\"row_heading level0 row11\" >11</th>\n",
       "      <td id=\"T_6b214_row11_col0\" class=\"data row11 col0\" >train</td>\n",
       "      <td id=\"T_6b214_row11_col1\" class=\"data row11 col1\" >2.450570</td>\n",
       "    </tr>\n",
       "    <tr>\n",
       "      <th id=\"T_6b214_level0_row12\" class=\"row_heading level0 row12\" >12</th>\n",
       "      <td id=\"T_6b214_row12_col0\" class=\"data row12 col0\" >massacre</td>\n",
       "      <td id=\"T_6b214_row12_col1\" class=\"data row12 col1\" >2.270274</td>\n",
       "    </tr>\n",
       "    <tr>\n",
       "      <th id=\"T_6b214_level0_row13\" class=\"row_heading level0 row13\" >13</th>\n",
       "      <td id=\"T_6b214_row13_col0\" class=\"data row13 col0\" >pm</td>\n",
       "      <td id=\"T_6b214_row13_col1\" class=\"data row13 col1\" >2.015904</td>\n",
       "    </tr>\n",
       "    <tr>\n",
       "      <th id=\"T_6b214_level0_row14\" class=\"row_heading level0 row14\" >14</th>\n",
       "      <td id=\"T_6b214_row14_col0\" class=\"data row14 col0\" >killed</td>\n",
       "      <td id=\"T_6b214_row14_col1\" class=\"data row14 col1\" >2.008951</td>\n",
       "    </tr>\n",
       "    <tr>\n",
       "      <th id=\"T_6b214_level0_row15\" class=\"row_heading level0 row15\" >15</th>\n",
       "      <td id=\"T_6b214_row15_col0\" class=\"data row15 col0\" >explosion</td>\n",
       "      <td id=\"T_6b214_row15_col1\" class=\"data row15 col1\" >1.931409</td>\n",
       "    </tr>\n",
       "    <tr>\n",
       "      <th id=\"T_6b214_level0_row16\" class=\"row_heading level0 row16\" >16</th>\n",
       "      <td id=\"T_6b214_row16_col0\" class=\"data row16 col0\" >near</td>\n",
       "      <td id=\"T_6b214_row16_col1\" class=\"data row16 col1\" >1.879279</td>\n",
       "    </tr>\n",
       "    <tr>\n",
       "      <th id=\"T_6b214_level0_row17\" class=\"row_heading level0 row17\" >17</th>\n",
       "      <td id=\"T_6b214_row17_col0\" class=\"data row17 col0\" >atomic</td>\n",
       "      <td id=\"T_6b214_row17_col1\" class=\"data row17 col1\" >1.842213</td>\n",
       "    </tr>\n",
       "    <tr>\n",
       "      <th id=\"T_6b214_level0_row18\" class=\"row_heading level0 row18\" >18</th>\n",
       "      <td id=\"T_6b214_row18_col0\" class=\"data row18 col0\" >confirmed</td>\n",
       "      <td id=\"T_6b214_row18_col1\" class=\"data row18 col1\" >1.792586</td>\n",
       "    </tr>\n",
       "    <tr>\n",
       "      <th id=\"T_6b214_level0_row19\" class=\"row_heading level0 row19\" >19</th>\n",
       "      <td id=\"T_6b214_row19_col0\" class=\"data row19 col0\" >california</td>\n",
       "      <td id=\"T_6b214_row19_col1\" class=\"data row19 col1\" >1.737520</td>\n",
       "    </tr>\n",
       "  </tbody>\n",
       "</table>\n"
      ],
      "text/plain": [
       "<pandas.io.formats.style.Styler at 0x16c649191e0>"
      ]
     },
     "metadata": {},
     "output_type": "display_data"
    },
    {
     "data": {
      "text/html": [
       "<style type=\"text/css\">\n",
       "</style>\n",
       "<table id=\"T_512cb\">\n",
       "  <caption>Top 20 palabras (−) → asoc. a no desastre</caption>\n",
       "  <thead>\n",
       "    <tr>\n",
       "      <th class=\"blank level0\" >&nbsp;</th>\n",
       "      <th id=\"T_512cb_level0_col0\" class=\"col_heading level0 col0\" >word</th>\n",
       "      <th id=\"T_512cb_level0_col1\" class=\"col_heading level0 col1\" >coef</th>\n",
       "    </tr>\n",
       "  </thead>\n",
       "  <tbody>\n",
       "    <tr>\n",
       "      <th id=\"T_512cb_level0_row0\" class=\"row_heading level0 row0\" >0</th>\n",
       "      <td id=\"T_512cb_row0_col0\" class=\"data row0 col0\" >wrecked</td>\n",
       "      <td id=\"T_512cb_row0_col1\" class=\"data row0 col1\" >-2.073257</td>\n",
       "    </tr>\n",
       "    <tr>\n",
       "      <th id=\"T_512cb_level0_row1\" class=\"row_heading level0 row1\" >1</th>\n",
       "      <td id=\"T_512cb_row1_col0\" class=\"data row1 col0\" >bag</td>\n",
       "      <td id=\"T_512cb_row1_col1\" class=\"data row1 col1\" >-2.059480</td>\n",
       "    </tr>\n",
       "    <tr>\n",
       "      <th id=\"T_512cb_level0_row2\" class=\"row_heading level0 row2\" >2</th>\n",
       "      <td id=\"T_512cb_row2_col0\" class=\"data row2 col0\" >love</td>\n",
       "      <td id=\"T_512cb_row2_col1\" class=\"data row2 col1\" >-1.834304</td>\n",
       "    </tr>\n",
       "    <tr>\n",
       "      <th id=\"T_512cb_level0_row3\" class=\"row_heading level0 row3\" >3</th>\n",
       "      <td id=\"T_512cb_row3_col0\" class=\"data row3 col0\" >full</td>\n",
       "      <td id=\"T_512cb_row3_col1\" class=\"data row3 col1\" >-1.827790</td>\n",
       "    </tr>\n",
       "    <tr>\n",
       "      <th id=\"T_512cb_level0_row4\" class=\"row_heading level0 row4\" >4</th>\n",
       "      <td id=\"T_512cb_row4_col0\" class=\"data row4 col0\" >as</td>\n",
       "      <td id=\"T_512cb_row4_col1\" class=\"data row4 col1\" >-1.788121</td>\n",
       "    </tr>\n",
       "    <tr>\n",
       "      <th id=\"T_512cb_level0_row5\" class=\"row_heading level0 row5\" >5</th>\n",
       "      <td id=\"T_512cb_row5_col0\" class=\"data row5 col0\" >free</td>\n",
       "      <td id=\"T_512cb_row5_col1\" class=\"data row5 col1\" >-1.734156</td>\n",
       "    </tr>\n",
       "    <tr>\n",
       "      <th id=\"T_512cb_level0_row6\" class=\"row_heading level0 row6\" >6</th>\n",
       "      <td id=\"T_512cb_row6_col0\" class=\"data row6 col0\" >put</td>\n",
       "      <td id=\"T_512cb_row6_col1\" class=\"data row6 col1\" >-1.707869</td>\n",
       "    </tr>\n",
       "    <tr>\n",
       "      <th id=\"T_512cb_level0_row7\" class=\"row_heading level0 row7\" >7</th>\n",
       "      <td id=\"T_512cb_row7_col0\" class=\"data row7 col0\" >job</td>\n",
       "      <td id=\"T_512cb_row7_col1\" class=\"data row7 col1\" >-1.443342</td>\n",
       "    </tr>\n",
       "    <tr>\n",
       "      <th id=\"T_512cb_level0_row8\" class=\"row_heading level0 row8\" >8</th>\n",
       "      <td id=\"T_512cb_row8_col0\" class=\"data row8 col0\" >bloody</td>\n",
       "      <td id=\"T_512cb_row8_col1\" class=\"data row8 col1\" >-1.433940</td>\n",
       "    </tr>\n",
       "    <tr>\n",
       "      <th id=\"T_512cb_level0_row9\" class=\"row_heading level0 row9\" >9</th>\n",
       "      <td id=\"T_512cb_row9_col0\" class=\"data row9 col0\" >he</td>\n",
       "      <td id=\"T_512cb_row9_col1\" class=\"data row9 col1\" >-1.368493</td>\n",
       "    </tr>\n",
       "    <tr>\n",
       "      <th id=\"T_512cb_level0_row10\" class=\"row_heading level0 row10\" >10</th>\n",
       "      <td id=\"T_512cb_row10_col0\" class=\"data row10 col0\" >let</td>\n",
       "      <td id=\"T_512cb_row10_col1\" class=\"data row10 col1\" >-1.335562</td>\n",
       "    </tr>\n",
       "    <tr>\n",
       "      <th id=\"T_512cb_level0_row11\" class=\"row_heading level0 row11\" >11</th>\n",
       "      <td id=\"T_512cb_row11_col0\" class=\"data row11 col0\" >reddit</td>\n",
       "      <td id=\"T_512cb_row11_col1\" class=\"data row11 col1\" >-1.258649</td>\n",
       "    </tr>\n",
       "    <tr>\n",
       "      <th id=\"T_512cb_level0_row12\" class=\"row_heading level0 row12\" >12</th>\n",
       "      <td id=\"T_512cb_row12_col0\" class=\"data row12 col0\" >show</td>\n",
       "      <td id=\"T_512cb_row12_col1\" class=\"data row12 col1\" >-1.232869</td>\n",
       "    </tr>\n",
       "    <tr>\n",
       "      <th id=\"T_512cb_level0_row13\" class=\"row_heading level0 row13\" >13</th>\n",
       "      <td id=\"T_512cb_row13_col0\" class=\"data row13 col0\" >harm</td>\n",
       "      <td id=\"T_512cb_row13_col1\" class=\"data row13 col1\" >-1.231754</td>\n",
       "    </tr>\n",
       "    <tr>\n",
       "      <th id=\"T_512cb_level0_row14\" class=\"row_heading level0 row14\" >14</th>\n",
       "      <td id=\"T_512cb_row14_col0\" class=\"data row14 col0\" >hazard</td>\n",
       "      <td id=\"T_512cb_row14_col1\" class=\"data row14 col1\" >-1.174982</td>\n",
       "    </tr>\n",
       "    <tr>\n",
       "      <th id=\"T_512cb_level0_row15\" class=\"row_heading level0 row15\" >15</th>\n",
       "      <td id=\"T_512cb_row15_col0\" class=\"data row15 col0\" >never</td>\n",
       "      <td id=\"T_512cb_row15_col1\" class=\"data row15 col1\" >-1.155021</td>\n",
       "    </tr>\n",
       "    <tr>\n",
       "      <th id=\"T_512cb_level0_row16\" class=\"row_heading level0 row16\" >16</th>\n",
       "      <td id=\"T_512cb_row16_col0\" class=\"data row16 col0\" >friend</td>\n",
       "      <td id=\"T_512cb_row16_col1\" class=\"data row16 col1\" >-1.077715</td>\n",
       "    </tr>\n",
       "    <tr>\n",
       "      <th id=\"T_512cb_level0_row17\" class=\"row_heading level0 row17\" >17</th>\n",
       "      <td id=\"T_512cb_row17_col0\" class=\"data row17 col0\" >armageddon</td>\n",
       "      <td id=\"T_512cb_row17_col1\" class=\"data row17 col1\" >-1.076764</td>\n",
       "    </tr>\n",
       "    <tr>\n",
       "      <th id=\"T_512cb_level0_row18\" class=\"row_heading level0 row18\" >18</th>\n",
       "      <td id=\"T_512cb_row18_col0\" class=\"data row18 col0\" >check</td>\n",
       "      <td id=\"T_512cb_row18_col1\" class=\"data row18 col1\" >-1.002505</td>\n",
       "    </tr>\n",
       "    <tr>\n",
       "      <th id=\"T_512cb_level0_row19\" class=\"row_heading level0 row19\" >19</th>\n",
       "      <td id=\"T_512cb_row19_col0\" class=\"data row19 col0\" >also</td>\n",
       "      <td id=\"T_512cb_row19_col1\" class=\"data row19 col1\" >-0.986001</td>\n",
       "    </tr>\n",
       "  </tbody>\n",
       "</table>\n"
      ],
      "text/plain": [
       "<pandas.io.formats.style.Styler at 0x16c649197b0>"
      ]
     },
     "metadata": {},
     "output_type": "display_data"
    }
   ],
   "source": [
    "coef = best_l1.coef_.ravel()\n",
    "feat = vectorizer.get_feature_names_out()\n",
    "\n",
    "top_pos_idx = np.argsort(coef)[-20:][::-1]  # más asociadas a target=1\n",
    "top_neg_idx = np.argsort(coef)[:20]         # más asociadas a target=0\n",
    "\n",
    "top_pos = pd.DataFrame({'word': feat[top_pos_idx], 'coef': coef[top_pos_idx]})\n",
    "top_neg = pd.DataFrame({'word': feat[top_neg_idx], 'coef': coef[top_neg_idx]})\n",
    "\n",
    "display(top_pos.style.set_caption(\"Top 20 palabras (+) → asoc. a desastre\"))\n",
    "display(top_neg.style.set_caption(\"Top 20 palabras (−) → asoc. a no desastre\"))\n"
   ]
  },
  {
   "cell_type": "markdown",
   "id": "43c505c0",
   "metadata": {},
   "source": [
    "## 5) Bernoulli Naive Bayes (from scratch, α=1) (Markdown)"
   ]
  },
  {
   "cell_type": "markdown",
   "id": "2b6c723b",
   "metadata": {},
   "source": [
    "### Bernoulli Naive Bayes — α=1\n",
    "\n",
    "**Modelo:**  \n",
    "- Features binarios {0,1} (BoW binario).  \n",
    "- *Laplace smoothing:* \\(\\hat{p}_{jk} = \\frac{\\#(x_j=1|y=k) + \\alpha}{n_k + 2\\alpha}\\).  \n",
    "- Métrica de evaluación: **F1** en train/test (como en LR).\n"
   ]
  },
  {
   "cell_type": "markdown",
   "id": "f5e8441c",
   "metadata": {},
   "source": [
    "Código (clase + evaluación)"
   ]
  },
  {
   "cell_type": "code",
   "execution_count": 18,
   "id": "74308d73",
   "metadata": {},
   "outputs": [],
   "source": [
    "class BernoulliNBFromScratch:\n",
    "    \"\"\"\n",
    "    Bernoulli Naive Bayes para features {0,1} con Laplace (alpha).\n",
    "    Implementación eficiente con matrices dispersas.\n",
    "    \"\"\"\n",
    "    def __init__(self, alpha=1.0):\n",
    "        self.alpha = alpha\n",
    "        self.classes_ = None\n",
    "        self.class_log_prior_ = None\n",
    "        self.feature_log_prob_ = None\n",
    "        self.feature_log_negprob_ = None\n",
    "\n",
    "    def fit(self, X, y):\n",
    "        from scipy import sparse\n",
    "        X = X.tocsr() if sparse.issparse(X) else np.asarray(X)\n",
    "        self.classes_, counts = np.unique(y, return_counts=True)\n",
    "        n_samples, n_features = X.shape\n",
    "\n",
    "        # Priors\n",
    "        self.class_log_prior_ = np.log(counts / n_samples)\n",
    "\n",
    "        # Condicionales con Laplace\n",
    "        feature_prob = np.zeros((len(self.classes_), n_features), dtype=float)\n",
    "        for idx, k in enumerate(self.classes_):\n",
    "            rows = np.where(y == k)[0]\n",
    "            Xk = X[rows]\n",
    "            ones = (np.asarray(Xk.sum(axis=0)).ravel()\n",
    "                    if sparse.issparse(Xk) else Xk.sum(axis=0))\n",
    "            n_k = len(rows)\n",
    "            p = (ones + self.alpha) / (n_k + 2*self.alpha)\n",
    "            feature_prob[idx, :] = p\n",
    "\n",
    "        self.feature_log_prob_ = np.log(feature_prob)\n",
    "        self.feature_log_negprob_ = np.log(1 - feature_prob)\n",
    "        return self\n",
    "\n",
    "    def predict_log_proba(self, X):\n",
    "        from scipy import sparse\n",
    "        X = X.tocsr() if sparse.issparse(X) else np.asarray(X)\n",
    "        J = np.zeros((X.shape[0], len(self.classes_)), dtype=float)\n",
    "        for idx in range(len(self.classes_)):\n",
    "            logp = self.feature_log_prob_[idx, :]\n",
    "            logq = self.feature_log_negprob_[idx, :]\n",
    "            # x@(logp-logq) + sum(logq)\n",
    "            part = (X.dot((logp - logq)) + logq.sum()) if sparse.issparse(X) else (X @ (logp - logq) + logq.sum())\n",
    "            J[:, idx] = self.class_log_prior_[idx] + part\n",
    "        return J\n",
    "\n",
    "    def predict(self, X):\n",
    "        log_J = self.predict_log_proba(X)\n",
    "        return self.classes_[np.argmax(log_J, axis=1)]"
   ]
  },
  {
   "cell_type": "code",
   "execution_count": 19,
   "id": "a97d536a",
   "metadata": {},
   "outputs": [
    {
     "name": "stdout",
     "output_type": "stream",
     "text": [
      "\n",
      "--- BernoulliNB — Train ---\n",
      "Accuracy: 0.769\n",
      "F1-score: 0.704\n",
      "              precision    recall  f1-score   support\n",
      "\n",
      "           0      0.761     0.867     0.811      3039\n",
      "           1      0.783     0.640     0.704      2290\n",
      "\n",
      "    accuracy                          0.769      5329\n",
      "   macro avg      0.772     0.753     0.758      5329\n",
      "weighted avg      0.771     0.769     0.765      5329\n",
      "\n"
     ]
    },
    {
     "data": {
      "image/png": "[encoded data removed]",
      "text/plain": [
       "<Figure size 700x400 with 1 Axes>"
      ]
     },
     "metadata": {},
     "output_type": "display_data"
    },
    {
     "name": "stdout",
     "output_type": "stream",
     "text": [
      "\n",
      "--- BernoulliNB — Test ---\n",
      "Accuracy: 0.750\n",
      "F1-score: 0.682\n",
      "              precision    recall  f1-score   support\n",
      "\n",
      "           0      0.749     0.847     0.795      1303\n",
      "           1      0.753     0.623     0.682       981\n",
      "\n",
      "    accuracy                          0.750      2284\n",
      "   macro avg      0.751     0.735     0.738      2284\n",
      "weighted avg      0.751     0.750     0.746      2284\n",
      "\n"
     ]
    },
    {
     "data": {
      "image/png": "[encoded data removed]",
      "text/plain": [
       "<Figure size 700x400 with 1 Axes>"
      ]
     },
     "metadata": {},
     "output_type": "display_data"
    },
    {
     "name": "stdout",
     "output_type": "stream",
     "text": [
      "\n",
      "Resumen F1 — NB: train=0.7043  test=0.6819\n"
     ]
    }
   ],
   "source": [
    "# Entrenar y evaluar NB\n",
    "nb = BernoulliNBFromScratch(alpha=1.0).fit(X_train_bow, y_train)\n",
    "yhat_tr_nb = nb.predict(X_train_bow)\n",
    "yhat_te_nb = nb.predict(X_test_bow)\n",
    "\n",
    "f1_tr_nb = f1_score(y_train, yhat_tr_nb)\n",
    "f1_te_nb = f1_score(y_test,  yhat_te_nb)\n",
    "\n",
    "report_classification(y_train, yhat_tr_nb, title=\"BernoulliNB — Train\")\n",
    "plot_confusion(y_train, yhat_tr_nb, title=\"CM — BernoulliNB (Train)\")\n",
    "\n",
    "report_classification(y_test,  yhat_te_nb, title=\"BernoulliNB — Test\")\n",
    "plot_confusion(y_test,  yhat_te_nb, title=\"CM — BernoulliNB (Test)\")\n",
    "\n",
    "print(f\"\\nResumen F1 — NB: train={f1_tr_nb:.4f}  test={f1_te_nb:.4f}\")"
   ]
  },
  {
   "cell_type": "markdown",
   "id": "480a81f7",
   "metadata": {},
   "source": [
    "## 6) N-grams (2-gramas): vocab, 10 ejemplos y modelos (Markdown)"
   ]
  },
  {
   "cell_type": "markdown",
   "id": "08023f95",
   "metadata": {},
   "source": [
    "### N-grams (2-gramas)\n",
    "\n",
    "- `CountVectorizer(ngram_range=(2,2), binary=True, min_df=M2)`.  \n",
    "- **M2** con mismo criterio robusto: `M2 = max(2, ceil(0.005 * n_docs_train))`.  \n",
    "- Reportar tamaño del vocabulario; imprimir **10 2-gramas**.  \n",
    "- Entrenar **LR (una especificación; usamos L2 + CV)** y **Bernoulli NB** sobre 2-gramas.  \n",
    "- Comparar F1 (train/test) vs BoW unigramas.\n"
   ]
  },
  {
   "cell_type": "markdown",
   "id": "de174ec8",
   "metadata": {},
   "source": [
    "Código"
   ]
  },
  {
   "cell_type": "code",
   "execution_count": 20,
   "id": "ea0a6717",
   "metadata": {},
   "outputs": [
    {
     "name": "stdout",
     "output_type": "stream",
     "text": [
      "Tamaño del vocabulario (2-gramas): 7\n"
     ]
    }
   ],
   "source": [
    "M2 = max(2, ceil(0.005 * len(X_train_clean)))\n",
    "\n",
    "vectorizer_2g = CountVectorizer(binary=True, ngram_range=(2,2), min_df=M2)\n",
    "X_train_2g = vectorizer_2g.fit_transform(X_train_clean)\n",
    "X_test_2g  = vectorizer_2g.transform(X_test_clean)\n",
    "\n",
    "vocab_2g = vectorizer_2g.get_feature_names_out()\n",
    "print(\"Tamaño del vocabulario (2-gramas):\", len(vocab_2g))\n",
    "\n"
   ]
  },
  {
   "cell_type": "code",
   "execution_count": 21,
   "id": "606743bf",
   "metadata": {},
   "outputs": [
    {
     "name": "stdout",
     "output_type": "stream",
     "text": [
      "Ejemplos (10): ['body bag' 'burning building' 'oil spill' 'cross body' 'look like'\n",
      " 'gon na' 'suicide bomber']\n"
     ]
    }
   ],
   "source": [
    "\n",
    "# 10 ejemplos de 2-gramas\n",
    "k = min(10, len(vocab_2g))\n",
    "ejemplos = np.random.choice(vocab_2g, size=k, replace=False) if k > 0 else []\n",
    "print(\"Ejemplos (10):\", ejemplos)\n"
   ]
  },
  {
   "cell_type": "code",
   "execution_count": 22,
   "id": "04dd294c",
   "metadata": {},
   "outputs": [
    {
     "name": "stdout",
     "output_type": "stream",
     "text": [
      "Mejor L2 (2g): {'C': 0.1}  — F1 CV: 0.0798\n",
      "\n",
      "--- LR L2 (2-gramas) — Train ---\n",
      "Accuracy: 0.585\n",
      "F1-score: 0.080\n",
      "              precision    recall  f1-score   support\n",
      "\n",
      "           0      0.579     0.995     0.732      3039\n",
      "           1      0.857     0.042     0.080      2290\n",
      "\n",
      "    accuracy                          0.585      5329\n",
      "   macro avg      0.718     0.518     0.406      5329\n",
      "weighted avg      0.699     0.585     0.452      5329\n",
      "\n"
     ]
    },
    {
     "data": {
      "image/png": "[encoded data removed]",
      "text/plain": [
       "<Figure size 700x400 with 1 Axes>"
      ]
     },
     "metadata": {},
     "output_type": "display_data"
    },
    {
     "name": "stdout",
     "output_type": "stream",
     "text": [
      "\n",
      "--- LR L2 (2-gramas) — Test ---\n",
      "Accuracy: 0.581\n",
      "F1-score: 0.065\n",
      "              precision    recall  f1-score   support\n",
      "\n",
      "           0      0.577     0.994     0.730      1303\n",
      "           1      0.805     0.034     0.065       981\n",
      "\n",
      "    accuracy                          0.581      2284\n",
      "   macro avg      0.691     0.514     0.397      2284\n",
      "weighted avg      0.675     0.581     0.444      2284\n",
      "\n"
     ]
    },
    {
     "data": {
      "image/png": "[encoded data removed]",
      "text/plain": [
       "<Figure size 700x400 with 1 Axes>"
      ]
     },
     "metadata": {},
     "output_type": "display_data"
    }
   ],
   "source": [
    "# LR L2 + CV en 2-gramas\n",
    "best_l2_2g, params_l2_2g, cv_l2_2g = tune_logistic_C(\n",
    "    X_train_2g, y_train, penalty='l2', solver='liblinear',\n",
    "    Cs=Cs, cv=5, random_state=RANDOM_STATE, n_jobs=-1, return_df=False\n",
    ")\n",
    "print(\"Mejor L2 (2g):\", params_l2_2g, \" — F1 CV:\", round(cv_l2_2g, 4))\n",
    "\n",
    "yhat_tr_l2_2g = best_l2_2g.predict(X_train_2g)\n",
    "yhat_te_l2_2g = best_l2_2g.predict(X_test_2g)\n",
    "\n",
    "f1_tr_l2_2g = f1_score(y_train, yhat_tr_l2_2g)\n",
    "f1_te_l2_2g = f1_score(y_test,  yhat_te_l2_2g)\n",
    "\n",
    "report_classification(y_train, yhat_tr_l2_2g, title=\"LR L2 (2-gramas) — Train\")\n",
    "plot_confusion(y_train, yhat_tr_l2_2g, title=\"CM — LR L2 (2-gramas) (Train)\")\n",
    "\n",
    "report_classification(y_test,  yhat_te_l2_2g, title=\"LR L2 (2-gramas) — Test\")\n",
    "plot_confusion(y_test,  yhat_te_l2_2g, title=\"CM — LR L2 (2-gramas) (Test)\")\n"
   ]
  },
  {
   "cell_type": "code",
   "execution_count": 23,
   "id": "73860f45",
   "metadata": {},
   "outputs": [
    {
     "name": "stdout",
     "output_type": "stream",
     "text": [
      "\n",
      "--- BernoulliNB (2-gramas) — Train ---\n",
      "Accuracy: 0.585\n",
      "F1-score: 0.080\n",
      "              precision    recall  f1-score   support\n",
      "\n",
      "           0      0.579     0.995     0.732      3039\n",
      "           1      0.857     0.042     0.080      2290\n",
      "\n",
      "    accuracy                          0.585      5329\n",
      "   macro avg      0.718     0.518     0.406      5329\n",
      "weighted avg      0.699     0.585     0.452      5329\n",
      "\n"
     ]
    },
    {
     "data": {
      "image/png": "[encoded data removed]",
      "text/plain": [
       "<Figure size 700x400 with 1 Axes>"
      ]
     },
     "metadata": {},
     "output_type": "display_data"
    },
    {
     "name": "stdout",
     "output_type": "stream",
     "text": [
      "\n",
      "--- BernoulliNB (2-gramas) — Test ---\n",
      "Accuracy: 0.581\n",
      "F1-score: 0.065\n",
      "              precision    recall  f1-score   support\n",
      "\n",
      "           0      0.577     0.994     0.730      1303\n",
      "           1      0.805     0.034     0.065       981\n",
      "\n",
      "    accuracy                          0.581      2284\n",
      "   macro avg      0.691     0.514     0.397      2284\n",
      "weighted avg      0.675     0.581     0.444      2284\n",
      "\n"
     ]
    },
    {
     "data": {
      "image/png": "[encoded data removed]",
      "text/plain": [
       "<Figure size 700x400 with 1 Axes>"
      ]
     },
     "metadata": {},
     "output_type": "display_data"
    },
    {
     "name": "stdout",
     "output_type": "stream",
     "text": [
      "\n",
      "Resumen F1 — LR L2 (2g): train=0.0799  test=0.0646\n",
      "Resumen F1 — NB (2g):     train=0.0799  test=0.0646\n"
     ]
    }
   ],
   "source": [
    "# NB en 2-gramas\n",
    "nb_2g = BernoulliNBFromScratch(alpha=1.0).fit(X_train_2g, y_train)\n",
    "yhat_tr_nb_2g = nb_2g.predict(X_train_2g)\n",
    "yhat_te_nb_2g = nb_2g.predict(X_test_2g)\n",
    "\n",
    "f1_tr_nb_2g = f1_score(y_train, yhat_tr_nb_2g)\n",
    "f1_te_nb_2g = f1_score(y_test,  yhat_te_nb_2g)\n",
    "\n",
    "report_classification(y_train, yhat_tr_nb_2g, title=\"BernoulliNB (2-gramas) — Train\")\n",
    "plot_confusion(y_train, yhat_tr_nb_2g, title=\"CM — BernoulliNB (2-gramas) (Train)\")\n",
    "\n",
    "report_classification(y_test,  yhat_te_nb_2g, title=\"BernoulliNB (2-gramas) — Test\")\n",
    "plot_confusion(y_test,  yhat_te_nb_2g, title=\"CM — BernoulliNB (2-gramas) (Test)\")\n",
    "\n",
    "print(f\"\\nResumen F1 — LR L2 (2g): train={f1_tr_l2_2g:.4f}  test={f1_te_l2_2g:.4f}\")\n",
    "print(f\"Resumen F1 — NB (2g):     train={f1_tr_nb_2g:.4f}  test={f1_te_nb_2g:.4f}\")"
   ]
  },
  {
   "cell_type": "markdown",
   "id": "abd1384b",
   "metadata": {},
   "source": [
    "## 7) Comparación final y conclusiones (Markdown + Código)"
   ]
  },
  {
   "cell_type": "markdown",
   "id": "f757ef5f",
   "metadata": {},
   "source": [
    "## 6) Comparación final y conclusiones (Parte A)\n",
    "\n",
    "- Comparamos F1 (train/test) de:\n",
    "  - **LR** (sin/L1/L2) con **BoW** (unigramas).\n",
    "  - **NB** con **BoW** (unigramas).\n",
    "  - **LR L2** y **NB** con **2-gramas**.\n",
    "\n",
    "**Discusión esperada:**\n",
    "- Los **2-gramas** capturan contexto (“forest fire”, “flash flood”); pueden mejorar en test si `min_df` controla la dimensionalidad.  \n",
    "- **Regularización (L1/L2)**: reduce sobreajuste; L1 además da **interpretabilidad** (palabras clave).  \n",
    "- **NB** puede ser competitivo con BoW binario por su sesgo de independencia; LR suele ganar si hay correlaciones útiles entre términos.\n",
    "\n",
    "Al final, se elige el **mejor por F1 en test** y se justifican decisiones.\n"
   ]
  },
  {
   "cell_type": "code",
   "execution_count": 24,
   "id": "7f74dddc",
   "metadata": {},
   "outputs": [
    {
     "data": {
      "application/vnd.microsoft.datawrangler.viewer.v0+json": {
       "columns": [
        {
         "name": "index",
         "rawType": "int64",
         "type": "integer"
        },
        {
         "name": "modelo",
         "rawType": "object",
         "type": "string"
        },
        {
         "name": "F1_train",
         "rawType": "float64",
         "type": "float"
        },
        {
         "name": "F1_test",
         "rawType": "float64",
         "type": "float"
        }
       ],
       "ref": "2d46c980-baba-4ef4-96dc-ee1f44258e3e",
       "rows": [
        [
         "0",
         "LR sin reg (BoW)",
         "0.7259853670049563",
         "0.6976229961304589"
        ],
        [
         "1",
         "LR L1 (BoW)",
         "0.7266666666666667",
         "0.6975446428571429"
        ],
        [
         "2",
         "LR L2 (BoW)",
         "0.7255415377291121",
         "0.6967167501391207"
        ],
        [
         "3",
         "NB (BoW)",
         "0.7043269230769231",
         "0.6819196428571429"
        ],
        [
         "4",
         "LR L2 (2g)",
         "0.07993338884263114",
         "0.06457925636007827"
        ],
        [
         "5",
         "NB (2g)",
         "0.07993338884263114",
         "0.06457925636007827"
        ]
       ],
       "shape": {
        "columns": 3,
        "rows": 6
       }
      },
      "text/html": [
       "<div>\n",
       "<style scoped>\n",
       "    .dataframe tbody tr th:only-of-type {\n",
       "        vertical-align: middle;\n",
       "    }\n",
       "\n",
       "    .dataframe tbody tr th {\n",
       "        vertical-align: top;\n",
       "    }\n",
       "\n",
       "    .dataframe thead th {\n",
       "        text-align: right;\n",
       "    }\n",
       "</style>\n",
       "<table border=\"1\" class=\"dataframe\">\n",
       "  <thead>\n",
       "    <tr style=\"text-align: right;\">\n",
       "      <th></th>\n",
       "      <th>modelo</th>\n",
       "      <th>F1_train</th>\n",
       "      <th>F1_test</th>\n",
       "    </tr>\n",
       "  </thead>\n",
       "  <tbody>\n",
       "    <tr>\n",
       "      <th>0</th>\n",
       "      <td>LR sin reg (BoW)</td>\n",
       "      <td>0.725985</td>\n",
       "      <td>0.697623</td>\n",
       "    </tr>\n",
       "    <tr>\n",
       "      <th>1</th>\n",
       "      <td>LR L1 (BoW)</td>\n",
       "      <td>0.726667</td>\n",
       "      <td>0.697545</td>\n",
       "    </tr>\n",
       "    <tr>\n",
       "      <th>2</th>\n",
       "      <td>LR L2 (BoW)</td>\n",
       "      <td>0.725542</td>\n",
       "      <td>0.696717</td>\n",
       "    </tr>\n",
       "    <tr>\n",
       "      <th>3</th>\n",
       "      <td>NB (BoW)</td>\n",
       "      <td>0.704327</td>\n",
       "      <td>0.681920</td>\n",
       "    </tr>\n",
       "    <tr>\n",
       "      <th>4</th>\n",
       "      <td>LR L2 (2g)</td>\n",
       "      <td>0.079933</td>\n",
       "      <td>0.064579</td>\n",
       "    </tr>\n",
       "    <tr>\n",
       "      <th>5</th>\n",
       "      <td>NB (2g)</td>\n",
       "      <td>0.079933</td>\n",
       "      <td>0.064579</td>\n",
       "    </tr>\n",
       "  </tbody>\n",
       "</table>\n",
       "</div>"
      ],
      "text/plain": [
       "             modelo  F1_train   F1_test\n",
       "0  LR sin reg (BoW)  0.725985  0.697623\n",
       "1       LR L1 (BoW)  0.726667  0.697545\n",
       "2       LR L2 (BoW)  0.725542  0.696717\n",
       "3          NB (BoW)  0.704327  0.681920\n",
       "4        LR L2 (2g)  0.079933  0.064579\n",
       "5           NB (2g)  0.079933  0.064579"
      ]
     },
     "execution_count": 24,
     "metadata": {},
     "output_type": "execute_result"
    }
   ],
   "source": [
    "resumen = pd.DataFrame({\n",
    "    'modelo': [\n",
    "        'LR sin reg (BoW)', 'LR L1 (BoW)', 'LR L2 (BoW)',\n",
    "        'NB (BoW)', 'LR L2 (2g)', 'NB (2g)'\n",
    "    ],\n",
    "    'F1_train': [\n",
    "        f1_tr_none, f1_tr_l1, f1_tr_l2,\n",
    "        f1_tr_nb,   f1_tr_l2_2g, f1_tr_nb_2g\n",
    "    ],\n",
    "    'F1_test': [\n",
    "        f1_te_none, f1_te_l1, f1_te_l2,\n",
    "        f1_te_nb,   f1_te_l2_2g, f1_te_nb_2g\n",
    "    ]\n",
    "}).sort_values('F1_test', ascending=False).reset_index(drop=True)\n",
    "\n",
    "resumen\n"
   ]
  }
 ],
 "metadata": {
  "kernelspec": {
   "display_name": ".venv",
   "language": "python",
   "name": "python3"
  },
  "language_info": {
   "codemirror_mode": {
    "name": "ipython",
    "version": 3
   },
   "file_extension": ".py",
   "mimetype": "text/x-python",
   "name": "python",
   "nbconvert_exporter": "python",
   "pygments_lexer": "ipython3",
   "version": "3.10.0"
  }
 },
 "nbformat": 4,
 "nbformat_minor": 5
}
