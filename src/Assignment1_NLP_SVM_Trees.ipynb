{
 "cells": [
  {
   "cell_type": "markdown",
   "id": "b83e8c82",
   "metadata": {},
   "source": [
    "*Configuración global de entorno*"
   ]
  },
  {
   "cell_type": "code",
   "execution_count": 7,
   "id": "e4c72fd5",
   "metadata": {},
   "outputs": [
    {
     "name": "stdout",
     "output_type": "stream",
     "text": [
      "Entorno cargado correctamente - listo para Part A, B y C\n"
     ]
    }
   ],
   "source": [
    "# ============================================================\n",
    "# (Importaciones, semilla, estilo)\n",
    "# ============================================================\n",
    "\n",
    "# --- Librerías base ---\n",
    "import os, sys, random, re\n",
    "import numpy as np\n",
    "import pandas as pd\n",
    "import matplotlib.pyplot as plt\n",
    "\n",
    "# --- Scikit-learn (modelos, métricas, CV, etc.) ---\n",
    "from sklearn.model_selection import (\n",
    "    train_test_split, StratifiedKFold, KFold, GridSearchCV, cross_val_score\n",
    ")\n",
    "from sklearn.metrics import (\n",
    "    f1_score, classification_report, confusion_matrix,\n",
    "    ConfusionMatrixDisplay, mean_squared_error, accuracy_score, zero_one_loss\n",
    ")\n",
    "from sklearn.feature_extraction.text import CountVectorizer\n",
    "from sklearn.linear_model import LogisticRegression\n",
    "from sklearn.naive_bayes import BernoulliNB\n",
    "from sklearn.svm import SVC\n",
    "from sklearn.tree import DecisionTreeRegressor, plot_tree\n",
    "from sklearn.datasets import make_classification, make_blobs\n",
    "from sklearn.preprocessing import StandardScaler\n",
    "\n",
    "# --- Librerías NLP ---\n",
    "import nltk\n",
    "from nltk.corpus import stopwords\n",
    "from nltk.stem import WordNetLemmatizer\n",
    "\n",
    "# --- Librerías de ISLP (para Carseats) ---\n",
    "from ISLP import load_data\n",
    "\n",
    "# --- Configuración general y reproducibilidad ---\n",
    "SEED = 42\n",
    "random.seed(SEED)\n",
    "np.random.seed(SEED)\n",
    "os.environ[\"PYTHONHASHSEED\"] = str(SEED)\n",
    "\n",
    "# --- Configuración visual de gráficos ---\n",
    "plt.rcParams[\"figure.figsize\"] = (8, 5)\n",
    "plt.rcParams[\"axes.grid\"] = True\n",
    "plt.rcParams[\"figure.dpi\"] = 110\n",
    "plt.rcParams[\"font.size\"] = 11\n",
    "\n",
    "# --- Descargas NLTK (solo la primera vez) ---\n",
    "nltk.download('punkt', quiet=True)\n",
    "nltk.download('stopwords', quiet=True)\n",
    "nltk.download('wordnet', quiet=True)\n",
    "nltk.download('omw-1.4', quiet=True)\n",
    "\n",
    "# --- Recursos NLP comunes ---\n",
    "stop_en = set(stopwords.words('english'))\n",
    "lem = WordNetLemmatizer()\n",
    "\n",
    "print(\"Entorno cargado correctamente - listo para Part A, B y C\")\n"
   ]
  },
  {
   "cell_type": "markdown",
   "id": "b8212424",
   "metadata": {},
   "source": [
    "# Part A: Binary Classification on Text Data"
   ]
  },
  {
   "cell_type": "markdown",
   "id": "330ee797",
   "metadata": {},
   "source": [
    "## A.2. Carga del dataset y partición 70/30 (estratificada)"
   ]
  },
  {
   "cell_type": "code",
   "execution_count": null,
   "id": "c475376f",
   "metadata": {},
   "outputs": [],
   "source": [
    "\n"
   ]
  }
 ],
 "metadata": {
  "kernelspec": {
   "display_name": ".venv",
   "language": "python",
   "name": "python3"
  },
  "language_info": {
   "codemirror_mode": {
    "name": "ipython",
    "version": 3
   },
   "file_extension": ".py",
   "mimetype": "text/x-python",
   "name": "python",
   "nbconvert_exporter": "python",
   "pygments_lexer": "ipython3",
   "version": "3.10.0"
  }
 },
 "nbformat": 4,
 "nbformat_minor": 5
}
